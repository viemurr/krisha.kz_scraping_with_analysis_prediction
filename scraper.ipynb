{
 "cells": [
  {
   "cell_type": "markdown",
   "metadata": {},
   "source": [
    "# HomeWork 5"
   ]
  },
  {
   "cell_type": "markdown",
   "metadata": {},
   "source": [
    "## Web Scaping from  https://krisha.kz/"
   ]
  },
  {
   "cell_type": "markdown",
   "metadata": {},
   "source": [
    "### Name: Diana Dalenova\n",
    "### Group: BDA-1901"
   ]
  },
  {
   "cell_type": "markdown",
   "metadata": {},
   "source": [
    "I am going to scrape info about apartments for sales in new buildings in Nur-Sultan"
   ]
  },
  {
   "cell_type": "code",
   "execution_count": 2,
   "metadata": {},
   "outputs": [
    {
     "name": "stdout",
     "output_type": "stream",
     "text": [
      "Collecting selenium\n",
      "  Downloading selenium-3.141.0-py2.py3-none-any.whl (904 kB)\n",
      "Requirement already satisfied: urllib3 in c:\\users\\w2\\anaconda3\\lib\\site-packages (from selenium) (1.25.9)\n",
      "Installing collected packages: selenium\n",
      "Successfully installed selenium-3.141.0\n"
     ]
    }
   ],
   "source": [
    "#let me download selenium\n",
    "#!pip install selenium"
   ]
  },
  {
   "cell_type": "code",
   "execution_count": 3,
   "metadata": {},
   "outputs": [],
   "source": [
    "#let me import necessary packages\n",
    "import requests\n",
    "from bs4 import BeautifulSoup\n",
    "import numpy as np\n",
    "import pandas as pd\n",
    "import math\n",
    "import time\n",
    "import csv\n",
    "from selenium import webdriver\n",
    "from selenium.webdriver.common.keys import Keys"
   ]
  },
  {
   "cell_type": "code",
   "execution_count": 4,
   "metadata": {},
   "outputs": [],
   "source": [
    "#creating an instance\n",
    "driver = webdriver.Chrome() "
   ]
  },
  {
   "cell_type": "code",
   "execution_count": 25,
   "metadata": {},
   "outputs": [
    {
     "name": "stdout",
     "output_type": "stream",
     "text": [
      "That was scraped by 451.6558139324188 seconds\n"
     ]
    }
   ],
   "source": [
    "start = time.time() #i want to record the time\n",
    "krisha = pd.DataFrame(columns=['OwnerName', 'Address', 'Complex', 'Square', 'Rooms', 'Phone', 'Price', 'Description'])\n",
    "data = [] #array for the future dataframe\n",
    "i=1 #setting 1, because we start with page 1, not 0\n",
    "for i in range(11):\n",
    "    driver.get('https://krisha.kz/prodazha/kvartiry/nur-sultan/?das[novostroiki]=1&page={}'.format(i)) #putting i instead of {}\n",
    "    page1 = driver.page_source\n",
    "    soup1 = BeautifulSoup(page1, 'lxml') #just parsing\n",
    "    flats = soup1.find_all('a', class_ = 'a-card__title') #getting links that are stored in the titles\n",
    "    \n",
    "    for j in range(len(flats)):\n",
    "        driver.get('https://krisha.kz{}'.format(flats[j]['href'])) #putting href of flats instead of {}\n",
    "        page2 = driver.page_source\n",
    "        \n",
    "        #if you open source code of the website, you can find script named jsdata\n",
    "        #data that i need is stored in variable \"data\" \n",
    "        #i found it useful, because there i can, for example, get price without tenge sign\n",
    "        jsdata = driver.execute_script('return data') \n",
    "\n",
    "        array = {\n",
    "            'OwnerName':jsdata['advert']['ownerName'],\n",
    "            'Address':jsdata['advert']['addressTitle'],\n",
    "            'Complex':jsdata['advert']['complexName'],\n",
    "            'Square':jsdata['advert']['square'],\n",
    "            'Rooms':jsdata['advert']['rooms'],\n",
    "            'Phone':jsdata['adverts'][0]['phones'][0], #for phones we have many phone numbers in jsdata, so we take first one\n",
    "            'Price':jsdata['advert']['price'],\n",
    "            'Description':jsdata['advert']['title']\n",
    "        }\n",
    "        data.append(array) \n",
    "    df = pd.DataFrame(data)\n",
    "        \n",
    "print('That was scraped by', time.time()-start, 'seconds')"
   ]
  },
  {
   "cell_type": "code",
   "execution_count": 26,
   "metadata": {},
   "outputs": [],
   "source": [
    "krisha = krisha.append(df, ignore_index=True)"
   ]
  },
  {
   "cell_type": "code",
   "execution_count": 27,
   "metadata": {},
   "outputs": [
    {
     "data": {
      "text/html": [
       "<div>\n",
       "<style scoped>\n",
       "    .dataframe tbody tr th:only-of-type {\n",
       "        vertical-align: middle;\n",
       "    }\n",
       "\n",
       "    .dataframe tbody tr th {\n",
       "        vertical-align: top;\n",
       "    }\n",
       "\n",
       "    .dataframe thead th {\n",
       "        text-align: right;\n",
       "    }\n",
       "</style>\n",
       "<table border=\"1\" class=\"dataframe\">\n",
       "  <thead>\n",
       "    <tr style=\"text-align: right;\">\n",
       "      <th></th>\n",
       "      <th>OwnerName</th>\n",
       "      <th>Address</th>\n",
       "      <th>Complex</th>\n",
       "      <th>Square</th>\n",
       "      <th>Rooms</th>\n",
       "      <th>Phone</th>\n",
       "      <th>Price</th>\n",
       "      <th>Description</th>\n",
       "    </tr>\n",
       "  </thead>\n",
       "  <tbody>\n",
       "    <tr>\n",
       "      <th>0</th>\n",
       "      <td>Асем Тас 2</td>\n",
       "      <td>Туран 38/1</td>\n",
       "      <td>Асем Тас 2</td>\n",
       "      <td>101.10</td>\n",
       "      <td>3</td>\n",
       "      <td>+7 778 017 1147</td>\n",
       "      <td>44484000</td>\n",
       "      <td>3-комнатная квартира, 101.1 м²</td>\n",
       "    </tr>\n",
       "    <tr>\n",
       "      <th>1</th>\n",
       "      <td>Athletic</td>\n",
       "      <td>Туран — Улы Дала</td>\n",
       "      <td>Athletic</td>\n",
       "      <td>79.85</td>\n",
       "      <td>3</td>\n",
       "      <td>+7 778 021 1839</td>\n",
       "      <td>25552000</td>\n",
       "      <td>3-комнатная квартира, 79.85 м²</td>\n",
       "    </tr>\n",
       "    <tr>\n",
       "      <th>2</th>\n",
       "      <td>Atlant</td>\n",
       "      <td>Сарайшык 2 — Кунаева</td>\n",
       "      <td>Atlant</td>\n",
       "      <td>100.42</td>\n",
       "      <td>3</td>\n",
       "      <td>+7 778 021 1851</td>\n",
       "      <td>44929027</td>\n",
       "      <td>3-комнатная квартира, 100.42 м²</td>\n",
       "    </tr>\n",
       "    <tr>\n",
       "      <th>3</th>\n",
       "      <td>Клубный дом «Green House»</td>\n",
       "      <td>Н. Хлудова 1</td>\n",
       "      <td>Клубный дом Green House</td>\n",
       "      <td>74.92</td>\n",
       "      <td>2</td>\n",
       "      <td>+7 778 021 1830</td>\n",
       "      <td>31316560</td>\n",
       "      <td>2-комнатная квартира, 74.92 м²</td>\n",
       "    </tr>\n",
       "    <tr>\n",
       "      <th>4</th>\n",
       "      <td>Сentral Park</td>\n",
       "      <td>Туран 5</td>\n",
       "      <td>Central Park</td>\n",
       "      <td>207.22</td>\n",
       "      <td>4</td>\n",
       "      <td>+7 778 017 1138</td>\n",
       "      <td>97393400</td>\n",
       "      <td>4-комнатная квартира, 207.22 м²</td>\n",
       "    </tr>\n",
       "    <tr>\n",
       "      <th>...</th>\n",
       "      <td>...</td>\n",
       "      <td>...</td>\n",
       "      <td>...</td>\n",
       "      <td>...</td>\n",
       "      <td>...</td>\n",
       "      <td>...</td>\n",
       "      <td>...</td>\n",
       "      <td>...</td>\n",
       "    </tr>\n",
       "    <tr>\n",
       "      <th>215</th>\n",
       "      <td>Жеруйык</td>\n",
       "      <td>Кенесары — Кумисбекова</td>\n",
       "      <td>Жеруйык</td>\n",
       "      <td>83.42</td>\n",
       "      <td>3</td>\n",
       "      <td>+7 778 017 1130</td>\n",
       "      <td>23774700</td>\n",
       "      <td>3-комнатная квартира, 83.42 м²</td>\n",
       "    </tr>\n",
       "    <tr>\n",
       "      <th>216</th>\n",
       "      <td>Cosmic City</td>\n",
       "      <td>Туран 89</td>\n",
       "      <td>Cosmic City</td>\n",
       "      <td>105.99</td>\n",
       "      <td>3</td>\n",
       "      <td>+7 778 021 1869</td>\n",
       "      <td>25437600</td>\n",
       "      <td>3-комнатная квартира, 105.99 м²</td>\n",
       "    </tr>\n",
       "    <tr>\n",
       "      <th>217</th>\n",
       "      <td>Cosmic City</td>\n",
       "      <td>Туран 89</td>\n",
       "      <td>Cosmic City</td>\n",
       "      <td>98.98</td>\n",
       "      <td>3</td>\n",
       "      <td>+7 778 021 1869</td>\n",
       "      <td>23755200</td>\n",
       "      <td>3-комнатная квартира, 98.98 м²</td>\n",
       "    </tr>\n",
       "    <tr>\n",
       "      <th>218</th>\n",
       "      <td>Budapest</td>\n",
       "      <td>Кабанбай батыра 59 — Хусейн бен Талала</td>\n",
       "      <td>Budapest</td>\n",
       "      <td>55.61</td>\n",
       "      <td>2</td>\n",
       "      <td>+7 778 017 1134</td>\n",
       "      <td>14458600</td>\n",
       "      <td>2-комнатная квартира, 55.61 м²</td>\n",
       "    </tr>\n",
       "    <tr>\n",
       "      <th>219</th>\n",
       "      <td>Жеруйык</td>\n",
       "      <td>Кенесары — Кумисбекова</td>\n",
       "      <td>Жеруйык</td>\n",
       "      <td>128.22</td>\n",
       "      <td>4</td>\n",
       "      <td>+7 778 017 1130</td>\n",
       "      <td>37504350</td>\n",
       "      <td>4-комнатная квартира, 128.22 м²</td>\n",
       "    </tr>\n",
       "  </tbody>\n",
       "</table>\n",
       "<p>220 rows × 8 columns</p>\n",
       "</div>"
      ],
      "text/plain": [
       "                     OwnerName                                 Address  \\\n",
       "0                   Асем Тас 2                              Туран 38/1   \n",
       "1                     Athletic                        Туран — Улы Дала   \n",
       "2                       Atlant                    Сарайшык 2 — Кунаева   \n",
       "3    Клубный дом «Green House»                            Н. Хлудова 1   \n",
       "4                 Сentral Park                                 Туран 5   \n",
       "..                         ...                                     ...   \n",
       "215                    Жеруйык                  Кенесары — Кумисбекова   \n",
       "216                Cosmic City                                Туран 89   \n",
       "217                Cosmic City                                Туран 89   \n",
       "218                   Budapest  Кабанбай батыра 59 — Хусейн бен Талала   \n",
       "219                    Жеруйык                  Кенесары — Кумисбекова   \n",
       "\n",
       "                     Complex  Square Rooms            Phone     Price  \\\n",
       "0                 Асем Тас 2  101.10     3  +7 778 017 1147  44484000   \n",
       "1                   Athletic   79.85     3  +7 778 021 1839  25552000   \n",
       "2                     Atlant  100.42     3  +7 778 021 1851  44929027   \n",
       "3    Клубный дом Green House   74.92     2  +7 778 021 1830  31316560   \n",
       "4               Central Park  207.22     4  +7 778 017 1138  97393400   \n",
       "..                       ...     ...   ...              ...       ...   \n",
       "215                  Жеруйык   83.42     3  +7 778 017 1130  23774700   \n",
       "216              Cosmic City  105.99     3  +7 778 021 1869  25437600   \n",
       "217              Cosmic City   98.98     3  +7 778 021 1869  23755200   \n",
       "218                 Budapest   55.61     2  +7 778 017 1134  14458600   \n",
       "219                  Жеруйык  128.22     4  +7 778 017 1130  37504350   \n",
       "\n",
       "                         Description  \n",
       "0     3-комнатная квартира, 101.1 м²  \n",
       "1     3-комнатная квартира, 79.85 м²  \n",
       "2    3-комнатная квартира, 100.42 м²  \n",
       "3     2-комнатная квартира, 74.92 м²  \n",
       "4    4-комнатная квартира, 207.22 м²  \n",
       "..                               ...  \n",
       "215   3-комнатная квартира, 83.42 м²  \n",
       "216  3-комнатная квартира, 105.99 м²  \n",
       "217   3-комнатная квартира, 98.98 м²  \n",
       "218   2-комнатная квартира, 55.61 м²  \n",
       "219  4-комнатная квартира, 128.22 м²  \n",
       "\n",
       "[220 rows x 8 columns]"
      ]
     },
     "execution_count": 27,
     "metadata": {},
     "output_type": "execute_result"
    }
   ],
   "source": [
    "krisha"
   ]
  },
  {
   "cell_type": "code",
   "execution_count": 28,
   "metadata": {},
   "outputs": [
    {
     "name": "stdout",
     "output_type": "stream",
     "text": [
      "<class 'pandas.core.frame.DataFrame'>\n",
      "RangeIndex: 220 entries, 0 to 219\n",
      "Data columns (total 8 columns):\n",
      " #   Column       Non-Null Count  Dtype  \n",
      "---  ------       --------------  -----  \n",
      " 0   OwnerName    220 non-null    object \n",
      " 1   Address      220 non-null    object \n",
      " 2   Complex      220 non-null    object \n",
      " 3   Square       220 non-null    float64\n",
      " 4   Rooms        220 non-null    object \n",
      " 5   Phone        220 non-null    object \n",
      " 6   Price        220 non-null    object \n",
      " 7   Description  220 non-null    object \n",
      "dtypes: float64(1), object(7)\n",
      "memory usage: 13.9+ KB\n"
     ]
    }
   ],
   "source": [
    "krisha.info()"
   ]
  },
  {
   "cell_type": "code",
   "execution_count": 29,
   "metadata": {},
   "outputs": [
    {
     "name": "stdout",
     "output_type": "stream",
     "text": [
      "<class 'pandas.core.frame.DataFrame'>\n",
      "RangeIndex: 220 entries, 0 to 219\n",
      "Data columns (total 8 columns):\n",
      " #   Column       Non-Null Count  Dtype  \n",
      "---  ------       --------------  -----  \n",
      " 0   OwnerName    220 non-null    object \n",
      " 1   Address      220 non-null    object \n",
      " 2   Complex      220 non-null    object \n",
      " 3   Square       220 non-null    float64\n",
      " 4   Rooms        220 non-null    float64\n",
      " 5   Phone        220 non-null    object \n",
      " 6   Price        220 non-null    float64\n",
      " 7   Description  220 non-null    object \n",
      "dtypes: float64(3), object(5)\n",
      "memory usage: 13.9+ KB\n"
     ]
    }
   ],
   "source": [
    "#we do not have null values, but dtypes are object, so let's convert some of them into int or float\n",
    "krisha['Rooms'] = krisha['Rooms'].astype(float)\n",
    "krisha['Price'] = krisha['Price'].astype(float)\n",
    "krisha.info()"
   ]
  },
  {
   "cell_type": "code",
   "execution_count": 30,
   "metadata": {},
   "outputs": [],
   "source": [
    "#saving into csv\n",
    "krisha.to_excel(\"krisha.xlsx\") "
   ]
  },
  {
   "cell_type": "code",
   "execution_count": null,
   "metadata": {},
   "outputs": [],
   "source": []
  }
 ],
 "metadata": {
  "kernelspec": {
   "display_name": "Python 3",
   "language": "python",
   "name": "python3"
  },
  "language_info": {
   "codemirror_mode": {
    "name": "ipython",
    "version": 3
   },
   "file_extension": ".py",
   "mimetype": "text/x-python",
   "name": "python",
   "nbconvert_exporter": "python",
   "pygments_lexer": "ipython3",
   "version": "3.8.3"
  }
 },
 "nbformat": 4,
 "nbformat_minor": 4
}
